{
  "nbformat": 4,
  "nbformat_minor": 0,
  "metadata": {
    "colab": {
      "name": "Football.ipynb",
      "provenance": [],
      "collapsed_sections": []
    },
    "kernelspec": {
      "name": "python3",
      "display_name": "Python 3"
    },
    "language_info": {
      "name": "python"
    }
  },
  "cells": [
    {
      "cell_type": "code",
      "execution_count": null,
      "metadata": {
        "id": "u0JMio_tqR5F"
      },
      "outputs": [],
      "source": [
        "import pandas as pd\n",
        "import numpy as np\n",
        "import seaborn as sns\n",
        "import matplotlib.pyplot as plt"
      ]
    },
    {
      "cell_type": "code",
      "source": [
        "from google.colab import drive\n",
        "drive.mount('/content/drive')"
      ],
      "metadata": {
        "colab": {
          "base_uri": "https://localhost:8080/"
        },
        "id": "cP4qj_ZsqWO7",
        "outputId": "95f85ff5-5ffd-426d-f013-7ca7f412dac1"
      },
      "execution_count": null,
      "outputs": [
        {
          "output_type": "stream",
          "name": "stdout",
          "text": [
            "Mounted at /content/drive\n"
          ]
        }
      ]
    },
    {
      "cell_type": "code",
      "source": [
        "data = pd.read_csv('spi_matches.csv')"
      ],
      "metadata": {
        "id": "Xy7h-yOzquC6"
      },
      "execution_count": null,
      "outputs": []
    },
    {
      "cell_type": "code",
      "source": [
        "season=data[data ['season']==2022]"
      ],
      "metadata": {
        "id": "aUXdSJxTrN38"
      },
      "execution_count": null,
      "outputs": []
    },
    {
      "cell_type": "code",
      "source": [
        "league= season[season ['league']=="
      ],
      "metadata": {
        "id": "4oSbd1PHrnnX",
        "colab": {
          "base_uri": "https://localhost:8080/",
          "height": 197
        },
        "outputId": "57b72256-1a32-4089-cc63-21123cdf8a99"
      },
      "execution_count": null,
      "outputs": [
        {
          "output_type": "error",
          "ename": "SyntaxError",
          "evalue": "ignored",
          "traceback": [
            "\u001b[0;36m  File \u001b[0;32m\"<ipython-input-4-7adb2c9cc36b>\"\u001b[0;36m, line \u001b[0;32m1\u001b[0m\n\u001b[0;31m    league= season[season ['league']==\u001b[0m\n\u001b[0m                                      ^\u001b[0m\n\u001b[0;31mSyntaxError\u001b[0m\u001b[0;31m:\u001b[0m unexpected EOF while parsing\n"
          ]
        }
      ]
    },
    {
      "cell_type": "code",
      "source": [
        "print(data['league'].unique())"
      ],
      "metadata": {
        "colab": {
          "base_uri": "https://localhost:8080/"
        },
        "id": "DuBp7qNAr00Q",
        "outputId": "828a7095-2351-41a6-dbbc-802cd5e1a6df"
      },
      "execution_count": null,
      "outputs": [
        {
          "output_type": "stream",
          "name": "stdout",
          "text": [
            "[\"FA Women's Super League\" 'French Ligue 1' 'Barclays Premier League'\n",
            " 'Spanish Primera Division' 'Italy Serie A' 'German Bundesliga'\n",
            " 'UEFA Champions League' 'Mexican Primera Division Torneo Clausura'\n",
            " 'Major League Soccer' 'Swedish Allsvenskan' 'Norwegian Tippeligaen'\n",
            " \"National Women's Soccer League\" 'Brasileiro Série A'\n",
            " 'Russian Premier Liga' 'Mexican Primera Division Torneo Apertura'\n",
            " 'Austrian T-Mobile Bundesliga' 'Swiss Raiffeisen Super League'\n",
            " 'French Ligue 2' 'German 2. Bundesliga' 'English League Championship'\n",
            " 'Scottish Premiership' 'Portuguese Liga' 'Dutch Eredivisie'\n",
            " 'Turkish Turkcell Super Lig' 'Spanish Segunda Division' 'Italy Serie B'\n",
            " 'Argentina Primera Division' 'UEFA Europa League' 'United Soccer League'\n",
            " 'Danish SAS-Ligaen' 'Belgian Jupiler League' 'Chinese Super League'\n",
            " 'Japanese J League' 'English League One'\n",
            " 'South African ABSA Premier League' 'English League Two'\n",
            " 'Greek Super League' 'Australian A-League' 'NWSL Challenge Cup'\n",
            " 'UEFA Europa Conference League']\n"
          ]
        }
      ]
    },
    {
      "cell_type": "code",
      "source": [
        "def league (name):\n",
        "    league_= data[data['league']==name]\n",
        "    num_season = league_['season'].max()\n",
        "    season= league_[league_['season']==num_season]\n",
        "    return season"
      ],
      "metadata": {
        "id": "1zw5qlqtssOy"
      },
      "execution_count": null,
      "outputs": []
    },
    {
      "cell_type": "code",
      "source": [
        "def team(name):\n",
        "    team1_= data[data['team1']==name]\n",
        "    team2_= data[data['team2']==name]\n",
        "    num_season = team1_['season'].max()\n",
        "    season1= team1_[team1_['season']==num_season]\n",
        "    season2= team2_[team2_['season']==num_season]\n",
        "    return pd.concat([season1, season2], axis=0)"
      ],
      "metadata": {
        "id": "gP0cCslowN7E"
      },
      "execution_count": null,
      "outputs": []
    },
    {
      "cell_type": "code",
      "source": [
        "league1= league ('FA Women\\'s Super League')\n",
        "league1['team1'].unique ()"
      ],
      "metadata": {
        "colab": {
          "base_uri": "https://localhost:8080/"
        },
        "id": "XlJl-vGgsYuf",
        "outputId": "2a8ad6fa-2fef-40da-c702-9714f05b630b"
      },
      "execution_count": null,
      "outputs": [
        {
          "output_type": "execute_result",
          "data": {
            "text/plain": [
              "array(['Manchester United Women', 'Aston Villa', 'Everton Ladies',\n",
              "       'Tottenham Women', 'Arsenal Women', 'Brighton & Hove Albion',\n",
              "       'West Ham United Ladies', 'Chelsea FC Women', 'Birmingham City',\n",
              "       'Reading', 'Leicester City WFC', 'Manchester City Women'],\n",
              "      dtype=object)"
            ]
          },
          "metadata": {},
          "execution_count": 8
        }
      ]
    },
    {
      "cell_type": "code",
      "source": [
        "def scored(df):\n",
        "    team_name= df['team1'].mode()[0]\n",
        "    \n",
        "    team1_= df[df['team1']==team_name]\n",
        "    score1= team1_['score1'].sum()\n",
        "    \n",
        "    team2_= df[df['team2']==team_name]\n",
        "    score2= team2_['score2'].sum()\n",
        "    \n",
        "    return (score1+score2)/df.shape[0]"
      ],
      "metadata": {
        "id": "3_4g09SZz2ta"
      },
      "execution_count": null,
      "outputs": []
    },
    {
      "cell_type": "code",
      "source": [
        "def concede(df):\n",
        "    team_name= df['team1'].mode()[0]\n",
        "    \n",
        "    team1_= df[df['team1']==team_name]\n",
        "    score1= team1_['score2'].sum()\n",
        "    \n",
        "    team2_= df[df['team2']==team_name]\n",
        "    score2= team2_['score1'].sum()\n",
        "    \n",
        "    return (score1+score2)/df.shape[0]"
      ],
      "metadata": {
        "id": "REOanoff3YSl"
      },
      "execution_count": null,
      "outputs": []
    },
    {
      "cell_type": "code",
      "source": [
        "from scipy.stats import poisson"
      ],
      "metadata": {
        "id": "KxSfgrOo5bLQ"
      },
      "execution_count": null,
      "outputs": []
    },
    {
      "cell_type": "code",
      "source": [
        "def goal_dist(mean, num_goals):\n",
        "    ones= np.ones((num_goals+1,num_goals+1))\n",
        "    goals= np.linspace(0,num_goals,num_goals+1)\n",
        "    return poisson.pmf(ones*goals, mean)"
      ],
      "metadata": {
        "id": "thR0077Q9mnm"
      },
      "execution_count": null,
      "outputs": []
    },
    {
      "cell_type": "code",
      "source": [
        "def match_dist(team_one, team_two):\n",
        "    goals=10\n",
        "    show=7\n",
        "    team1=team(team_one)\n",
        "    team2=team(team_two)\n",
        "    \n",
        "    team1_scored= scored(team1)\n",
        "    team1_concede= concede(team1)\n",
        "\n",
        "    team2_scored= scored(team2)\n",
        "    team2_concede= concede(team2)\n",
        "    \n",
        "    team1_scored_dist=goal_dist(team1_scored, goals)\n",
        "    team1_concede_dist=goal_dist(team1_concede, goals)\n",
        "\n",
        "    team2_scored_dist=goal_dist(team2_scored, goals)\n",
        "    team2_concede_dist=goal_dist(team2_concede, goals)\n",
        "    \n",
        "    team1_score= np.diagonal(team1_scored_dist*(team2_concede_dist.T))\n",
        "    team1_score=team1_score/sum(team1_score)\n",
        "    team2_score= np.diagonal(team2_scored_dist*(team1_concede_dist.T))\n",
        "    team2_score=team2_score/sum(team2_score)\n",
        "    \n",
        "    ones=np.ones((goals+1,goals+1))\n",
        "    team1_ones= ones*team1_score\n",
        "    team2_ones=ones*team2_score\n",
        "    goals_dist=team1_ones*team2_ones.T\n",
        "    \n",
        "    disp= goals_dist[:show, :show]\n",
        "    team1_win= np.triu(goals_dist,1).sum()*100\n",
        "    draw= np.trace(goals_dist)*100\n",
        "    team2_win= np.tril(goals_dist,-1).sum()*100\n",
        "    print (team_one,': ', team1_win)\n",
        "    print ('Draw: ', draw)\n",
        "    print (team_two,': ',team2_win)\n",
        "\n",
        "    color=sns.color_palette(\"Greens\", as_cmap=True)\n",
        "    sns.heatmap(disp*100, cmap=color, annot= True, fmt='.1f', cbar= False)\n",
        "    \n",
        "    plt.xlabel(team_one)\n",
        "    plt.ylabel(team_two)"
      ],
      "metadata": {
        "id": "TTlaNmypA8Ip"
      },
      "execution_count": null,
      "outputs": []
    },
    {
      "cell_type": "code",
      "source": [
        "match_dist('Leicester City WFC', 'Chelsea FC Women')"
      ],
      "metadata": {
        "colab": {
          "base_uri": "https://localhost:8080/",
          "height": 275
        },
        "id": "lriJUPSiEiKU",
        "outputId": "5993dc0f-a4d2-4f1e-c0c8-fbc80b564e6a"
      },
      "execution_count": null,
      "outputs": [
        {
          "output_type": "stream",
          "name": "stdout",
          "text": [
            "Leicester City WFC :  3.274121392488447\n",
            "Draw:  21.146425067229636\n",
            "Chelsea FC Women :  75.5794535402819\n"
          ]
        },
        {
          "output_type": "display_data",
          "data": {
            "text/plain": [
              "<Figure size 432x288 with 1 Axes>"
            ],
            "image/png": "[encoded data removed]"
          },
          "metadata": {
            "needs_background": "light"
          }
        }
      ]
    },
    {
      "cell_type": "code",
      "source": [
        "match_dist('Brighton & Hove Albion', 'West Ham United Ladies')"
      ],
      "metadata": {
        "colab": {
          "base_uri": "https://localhost:8080/",
          "height": 275
        },
        "id": "Zb-Lrj2uxM66",
        "outputId": "01e7d12b-3bb1-4199-a23a-2bd4a4be96e9"
      },
      "execution_count": null,
      "outputs": [
        {
          "output_type": "stream",
          "name": "stdout",
          "text": [
            "Brighton & Hove Albion :  25.19094741202862\n",
            "Draw:  39.53490254987406\n",
            "West Ham United Ladies :  35.27415003809739\n"
          ]
        },
        {
          "output_type": "display_data",
          "data": {
            "text/plain": [
              "<Figure size 432x288 with 1 Axes>"
            ],
            "image/png": "[encoded data removed]"
          },
          "metadata": {
            "needs_background": "light"
          }
        }
      ]
    }
  ]
}